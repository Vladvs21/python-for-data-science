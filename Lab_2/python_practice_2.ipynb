{
 "cells": [
  {
   "cell_type": "markdown",
   "metadata": {
    "id": "p9wwt0LZzNvn"
   },
   "source": [
    "# I. Змінні та памʼять."
   ]
  },
  {
   "cell_type": "markdown",
   "metadata": {
    "id": "HTJrrm95xSV9"
   },
   "source": [
    "1. Створити змінні, що посилаються на два цілих числа, що однакові за значенням, де значення належить проміжку від -5 до 256. Перевірте, чи будуть ці змінні рівні тільки за значенням або ж ще будуть посилатися на один і той самий обʼєкт в памʼяті? Наведіть код та дайте текстову відповідь нижче."
   ]
  },
  {
   "cell_type": "code",
   "execution_count": 4,
   "metadata": {
    "id": "TATni2vzayjG"
   },
   "outputs": [
    {
     "name": "stdout",
     "output_type": "stream",
     "text": [
      "Are equal: True\n",
      "Are in same memory field: True\n"
     ]
    }
   ],
   "source": [
    "var_1 = 13\n",
    "var_2 = 13\n",
    "\n",
    "print('Are equal:', var_1 == var_2)\n",
    "\n",
    "print('Are in same memory field:', var_1 is var_2)"
   ]
  },
  {
   "cell_type": "markdown",
   "metadata": {
    "id": "zfRG_o3WbRdg"
   },
   "source": [
    "Змінні рівні і посилаються на один і той самий об'єкт в пам'яті"
   ]
  },
  {
   "cell_type": "markdown",
   "metadata": {
    "id": "ISORzt6M3vAt"
   },
   "source": [
    "2. За допомогою якої функції можна перевірити належність змінної до вказаного типу даних (напр. чи змінна True посилається на значення булевого та цілочисленого типу)?"
   ]
  },
  {
   "cell_type": "code",
   "execution_count": 5,
   "metadata": {
    "id": "9vL9CFaMbfyo"
   },
   "outputs": [
    {
     "name": "stdout",
     "output_type": "stream",
     "text": [
      "Is Boolean: True\n"
     ]
    }
   ],
   "source": [
    "var = True\n",
    "\n",
    "print('Is Boolean:', isinstance(var, bool))"
   ]
  },
  {
   "cell_type": "markdown",
   "metadata": {
    "id": "tRxugKAxwYLw"
   },
   "source": [
    "# II. Цілі числа та числа з рухомою комою"
   ]
  },
  {
   "cell_type": "markdown",
   "metadata": {
    "id": "NLHkgd5Gybc8"
   },
   "source": [
    "3. Створити дві змінні, що посилаються на будь-які ціле число та число з рухомою комою та продемонструвати такі арифметичні операції: додавання, віднімання, ділення, множення, ділення без залишку, ділення по модулю, приведення до ступеню. Всі результати операцій вивести на екран."
   ]
  },
  {
   "cell_type": "code",
   "execution_count": 6,
   "metadata": {
    "id": "nb8u_3pjb2cA"
   },
   "outputs": [
    {
     "name": "stdout",
     "output_type": "stream",
     "text": [
      "Додавання: 7.5\n",
      "\n",
      "Віднімання: 2.5\n",
      "\n",
      "Ділення: 2.0\n",
      "Ділення: 0.5\n",
      "\n",
      "Множення: 12.5\n",
      "\n",
      "Ділення без залишку: 2.0\n",
      "Ділення без залишку: 0.0\n",
      "\n",
      "Ділення по модулю: 0.0\n",
      "Ділення по модулю: 2.5\n",
      "\n",
      "Приведення до ступеню: 55.90169943749474\n",
      "Приведення до ступеню: 97.65625\n"
     ]
    }
   ],
   "source": [
    "var_int = 5\n",
    "var_float = 2.5\n",
    "\n",
    "print(\"Додавання:\", var_int + var_float)\n",
    "print()\n",
    "\n",
    "print(\"Віднімання:\", var_int - var_float)\n",
    "print()\n",
    "\n",
    "print(\"Ділення:\", var_int / var_float)\n",
    "print(\"Ділення:\", var_float / var_int)\n",
    "print()\n",
    "\n",
    "print(\"Множення:\", var_int * var_float)\n",
    "print()\n",
    "\n",
    "print(\"Ділення без залишку:\", var_int // var_float)\n",
    "print(\"Ділення без залишку:\", var_float // var_int)\n",
    "print()\n",
    "\n",
    "print(\"Ділення по модулю:\", var_int % var_float)\n",
    "print(\"Ділення по модулю:\", var_float % var_int)\n",
    "print()\n",
    "\n",
    "print(\"Приведення до ступеню:\", var_int ** var_float)\n",
    "print(\"Приведення до ступеню:\", var_float ** var_int)"
   ]
  },
  {
   "cell_type": "markdown",
   "metadata": {
    "id": "1kBClKgPzZnC"
   },
   "source": [
    "4. Використовуючи змінні з вправи 3, продемонструйте механізм явного перетворення типів, де числа з рухомою комою перетворюються на цілі числа. Також визначте змінну, що посилається на значення булевого типу і спробуйте явно привести її до цілого числа."
   ]
  },
  {
   "cell_type": "code",
   "execution_count": 9,
   "metadata": {
    "id": "TbqJbkeUcKsD"
   },
   "outputs": [
    {
     "name": "stdout",
     "output_type": "stream",
     "text": [
      "Float to Int: 2\n",
      "\n",
      "Boolean (True) to Int: 1\n",
      "Boolean (False) to Int: 0\n"
     ]
    }
   ],
   "source": [
    "print('Float to Int:', int(var_float))\n",
    "print()\n",
    "\n",
    "print('Boolean (True) to Int:', int(True))\n",
    "print('Boolean (False) to Int:', int(False))"
   ]
  },
  {
   "cell_type": "markdown",
   "metadata": {
    "id": "EVJ7AflwxrZi"
   },
   "source": [
    "# IІІ. Рядки (String)."
   ]
  },
  {
   "cell_type": "markdown",
   "metadata": {
    "id": "_s5ECzz9zE61"
   },
   "source": [
    "5. Створити пустий рядок двома різними способами."
   ]
  },
  {
   "cell_type": "code",
   "execution_count": null,
   "metadata": {
    "id": "fkZJHu9Scvc-"
   },
   "outputs": [],
   "source": [
    "empty_str_1 = ''\n",
    "empty_str_2 = str()"
   ]
  },
  {
   "cell_type": "markdown",
   "metadata": {
    "id": "4Bdn9J3MzLf_"
   },
   "source": [
    "6. Створити рядок з апострофом. Зробити його сирим. Вивести обидва рядка на екран."
   ]
  },
  {
   "cell_type": "code",
   "execution_count": 12,
   "metadata": {
    "id": "ivji_hsmc0GH"
   },
   "outputs": [
    {
     "name": "stdout",
     "output_type": "stream",
     "text": [
      "String: it`s not raw\n",
      "Raw string: 'it`s not raw'\n"
     ]
    }
   ],
   "source": [
    "var_str = 'it`s not raw'\n",
    "vat_str_raw = repr(var_str)\n",
    "\n",
    "print('String:', var_str)\n",
    "print('Raw string:', vat_str_raw)"
   ]
  },
  {
   "cell_type": "markdown",
   "metadata": {
    "id": "bg_d8wM4z8dS"
   },
   "source": [
    "7. Створити змінну, що буде посилатися на Ваше прізвище латинкою. Створити форматований рядок, який буде мати вигляд \"My surname is ______\", де на місці нижніх підкреслень буде Ваше прізвище зі змінної."
   ]
  },
  {
   "cell_type": "code",
   "execution_count": 14,
   "metadata": {
    "id": "kuxFgpWndACq"
   },
   "outputs": [
    {
     "name": "stdout",
     "output_type": "stream",
     "text": [
      "My surname is Vakulenko\n"
     ]
    }
   ],
   "source": [
    "surname = 'Vakulenko'\n",
    "\n",
    "format_str = f'My surname is {surname}'\n",
    "\n",
    "print(format_str)"
   ]
  },
  {
   "cell_type": "markdown",
   "metadata": {
    "id": "1Nc6RqvQ0hxU"
   },
   "source": [
    "8. Маючи рядок \"My dog is crazy.\" перетворити його на список [\"my\", \"dog\", \"is\", \"crazy\"]"
   ]
  },
  {
   "cell_type": "code",
   "execution_count": 16,
   "metadata": {
    "id": "w1Ya4RqedUhw"
   },
   "outputs": [
    {
     "name": "stdout",
     "output_type": "stream",
     "text": [
      "['my', 'dog', 'is', 'crazy']\n"
     ]
    }
   ],
   "source": [
    "text = \"My dog is crazy.\"\n",
    "\n",
    "word_list = text.lower().replace('.', '').split()\n",
    "\n",
    "print(word_list)"
   ]
  },
  {
   "cell_type": "markdown",
   "metadata": {
    "id": "GYVqN9uP1D4n"
   },
   "source": [
    "# IV. Робота зі списками."
   ]
  },
  {
   "cell_type": "markdown",
   "metadata": {
    "id": "7-DeDunw2sO-"
   },
   "source": [
    "9. Створити список двома різними за синтаксисом способами. За допомогою вбудованої функції обчисліть довжину одного з них."
   ]
  },
  {
   "cell_type": "code",
   "execution_count": 5,
   "metadata": {
    "id": "zxg06Uuxdyoh"
   },
   "outputs": [
    {
     "name": "stdout",
     "output_type": "stream",
     "text": [
      "list_1 length is: 3\n",
      "list_2 length is: 3\n"
     ]
    }
   ],
   "source": [
    "list_1 = [1, 2, 3]\n",
    "list_2 = list(\"abc\")\n",
    "\n",
    "print('list_1 length is:', len(list_1))\n",
    "print('list_2 length is:', len(list_2))"
   ]
  },
  {
   "cell_type": "markdown",
   "metadata": {
    "id": "8vmGUTjL22gI"
   },
   "source": [
    "10. Створіть два списка та за допомогою спеціального методу додайте другий з них в якості останнього елемента першого."
   ]
  },
  {
   "cell_type": "code",
   "execution_count": 6,
   "metadata": {
    "id": "uHtjWYw7d7hm"
   },
   "outputs": [
    {
     "name": "stdout",
     "output_type": "stream",
     "text": [
      "[1, 2, 3, [4, 5, 6]]\n"
     ]
    }
   ],
   "source": [
    "list_1 = [1, 2, 3]\n",
    "list_2 = [4, 5, 6]\n",
    "\n",
    "list_1.extend([list_2])\n",
    "\n",
    "print(list_1)"
   ]
  },
  {
   "cell_type": "markdown",
   "metadata": {
    "id": "JC3BkD-67_--"
   },
   "source": [
    "11. Створіть список, де елементами цього списку також є списки. Отримай перший елемент з останнього рядка та виведи значення на екран."
   ]
  },
  {
   "cell_type": "code",
   "execution_count": 7,
   "metadata": {
    "id": "Kz2jZHsGeLlz"
   },
   "outputs": [
    {
     "name": "stdout",
     "output_type": "stream",
     "text": [
      "First element in last row: 7\n"
     ]
    }
   ],
   "source": [
    "double_list = [\n",
    "    [1, 2, 3],\n",
    "    [4, 5, 6],\n",
    "    [7, 8, 9]\n",
    "]\n",
    "\n",
    "print(\"First element in last row:\", double_list[-1][0])"
   ]
  },
  {
   "cell_type": "markdown",
   "metadata": {
    "id": "JA47PKTv8zFK"
   },
   "source": [
    "12. Створіть список з десяти елементів різного типу. Отримайте всі елементи, окрім двох перших та двох останніх та збережіть їх в новій змінній."
   ]
  },
  {
   "cell_type": "code",
   "execution_count": 9,
   "metadata": {
    "id": "_rHdUR-ueP4-"
   },
   "outputs": [
    {
     "name": "stdout",
     "output_type": "stream",
     "text": [
      "Default list: [1, 'one', 1.0, [1, 1], (1, 1), {1, 2}, {'number': 1}, None, True, [[1]]]\n",
      "New list: [1.0, [1, 1], (1, 1), {1, 2}, {'number': 1}, None]\n"
     ]
    }
   ],
   "source": [
    "default_list = [1, 'one', 1.0, [1, 1], (1, 1), {1, 2}, {'number': 1}, None, True, [[1]]]\n",
    "\n",
    "new_list = default_list[2:-2]\n",
    "\n",
    "print(\"Default list:\", default_list)\n",
    "print(\"New list:\", new_list)"
   ]
  },
  {
   "cell_type": "markdown",
   "metadata": {
    "id": "pCjR1dJb1Qbi"
   },
   "source": [
    "# V. Робота з кортежами."
   ]
  },
  {
   "cell_type": "markdown",
   "metadata": {
    "id": "fAZCxAX06R_k"
   },
   "source": [
    "14. Створити кортеж з один елементом."
   ]
  },
  {
   "cell_type": "code",
   "execution_count": 10,
   "metadata": {
    "id": "H7d82WkQev3e"
   },
   "outputs": [
    {
     "name": "stdout",
     "output_type": "stream",
     "text": [
      "(1,)\n"
     ]
    }
   ],
   "source": [
    "singl_el_tuple = (1,)\n",
    "\n",
    "print(singl_el_tuple)"
   ]
  },
  {
   "cell_type": "markdown",
   "metadata": {
    "id": "8LCtYcmI6w1M"
   },
   "source": [
    "15. Порівняйте список та кортеж. Назвіть схожості та відмінності, випадки використання."
   ]
  },
  {
   "cell_type": "markdown",
   "metadata": {
    "id": "fUsN1Hnue0C6"
   },
   "source": [
    "Схожості: \n",
    "    - з обидвох об'єктів можна діставати значення за індексами / обрізати об'єкти\n",
    "    \n",
    "Відмінності:\n",
    "    - список можна редагувати, а кортеж - ні\n",
    "    - синтаксис\n",
    "    \n",
    "Випадки використання:\n",
    "    - якщо дані треба змінювати - списки\n",
    "    - якщо дані не треба змінювати - кортежі, бо вони більш оптимізовані"
   ]
  },
  {
   "cell_type": "markdown",
   "metadata": {
    "id": "m0xrwFijAmDD"
   },
   "source": [
    "16. Створіть кортеж з 11ти елементів чисел з рухомою комою та отримайте кожен парний за індексом елемент в зворотньому порядку. Наприклад, маючи (1.2, 2.3, 3.3, 4.3, 5.3, 6.3, 7.3, 8.3, 9.3, 0.3), отримати (0.3, 8.3, 6.3, 4.3, 2.3). Результат збережіть в нову змінну та виведіть на екран."
   ]
  },
  {
   "cell_type": "code",
   "execution_count": 11,
   "metadata": {
    "id": "p-5DAH6XfAGA"
   },
   "outputs": [
    {
     "name": "stdout",
     "output_type": "stream",
     "text": [
      "Default tuple: (1.2, 2.3, 3.3, 4.3, 5.3, 6.3, 7.3, 8.3, 9.3, 0.3)\n",
      "New tuple: (0.3, 8.3, 6.3, 4.3, 2.3)\n"
     ]
    }
   ],
   "source": [
    "default_tuple = (1.2, 2.3, 3.3, 4.3, 5.3, 6.3, 7.3, 8.3, 9.3, 0.3)\n",
    "\n",
    "new_tuple = default_tuple[::-2]\n",
    "\n",
    "# Виведення результату\n",
    "print(\"Default tuple:\", default_tuple)\n",
    "print(\"New tuple:\", new_tuple)"
   ]
  },
  {
   "cell_type": "markdown",
   "metadata": {
    "id": "rW_I9dt3x6cW"
   },
   "source": [
    "# VI. Множини (Set)."
   ]
  },
  {
   "cell_type": "markdown",
   "metadata": {
    "id": "zNjRLHLw1Bgg"
   },
   "source": [
    "17. Створити множину без елементів. Після цого за допомогою методу додайте кілька різних елементів до множини. Чи множини є змінним типом даних?"
   ]
  },
  {
   "cell_type": "code",
   "execution_count": 15,
   "metadata": {
    "id": "KOv7zc2Kfo4N"
   },
   "outputs": [
    {
     "name": "stdout",
     "output_type": "stream",
     "text": [
      "Set: {False, 1, 'text', None}\n"
     ]
    }
   ],
   "source": [
    "var_set = set()\n",
    "\n",
    "var_set.add(1)\n",
    "var_set.add('text')\n",
    "var_set.add(None)\n",
    "var_set.add(False)\n",
    "\n",
    "print(\"Set:\", var_set)"
   ]
  },
  {
   "cell_type": "markdown",
   "metadata": {
    "id": "vxS6dVYiftZQ"
   },
   "source": [
    "Так"
   ]
  },
  {
   "cell_type": "markdown",
   "metadata": {
    "id": "gHpT0Zw_1HEF"
   },
   "source": [
    "18. Створити множину, маючи список my_list = [1, 1, 2, 67, 67, 8, 9]. Пояснити, чому \"зникли\" деякі елементи."
   ]
  },
  {
   "cell_type": "code",
   "execution_count": 16,
   "metadata": {
    "id": "qCN4uvJ_fxmu"
   },
   "outputs": [
    {
     "name": "stdout",
     "output_type": "stream",
     "text": [
      "Set: {1, 2, 67, 8, 9}\n"
     ]
    }
   ],
   "source": [
    "my_list = [1, 1, 2, 67, 67, 8, 9]\n",
    "\n",
    "my_set = set(my_list)\n",
    "\n",
    "print('Set:', my_set)"
   ]
  },
  {
   "cell_type": "markdown",
   "metadata": {
    "id": "tFNc1e20fyny"
   },
   "source": [
    "Set - це множина унікальних значень, отже дублікати зникли"
   ]
  },
  {
   "cell_type": "markdown",
   "metadata": {
    "id": "SRMkGizS1UwY"
   },
   "source": [
    "19. Створіть дві множини. Продемонстуйте над ними операції: обʼєднання, різниці, пересічі та симетричної різниці. Використовуйте методи, що не змінюють множини, а створюють нові."
   ]
  },
  {
   "cell_type": "code",
   "execution_count": 18,
   "metadata": {
    "id": "h0T-VuDnf3Ri"
   },
   "outputs": [
    {
     "name": "stdout",
     "output_type": "stream",
     "text": [
      "Об'єднання: {1, 2, 3, 4, 5, 6, 7}\n",
      "\n",
      "Різниця: {1, 2}\n",
      "\n",
      "Пересіч: {3, 4, 5}\n",
      "\n",
      "Симетрична різниця: {1, 2, 6, 7}\n"
     ]
    }
   ],
   "source": [
    "set_1 = {1, 2, 3, 4, 5}\n",
    "set_2 = {3, 4, 5, 6, 7}\n",
    "\n",
    "print(\"Об'єднання:\", set_1.union(set_2))\n",
    "print('')\n",
    "\n",
    "print(\"Різниця:\", set_1.difference(set_2))\n",
    "print('')\n",
    "\n",
    "print(\"Пересіч:\", set_1.intersection(set_2))\n",
    "print('')\n",
    "\n",
    "print(\"Симетрична різниця:\", set_1.symmetric_difference(set_2))"
   ]
  },
  {
   "cell_type": "markdown",
   "metadata": {
    "id": "kWc8gkzTx7Ea"
   },
   "source": [
    "# VII. Словники (Dictionary)."
   ]
  },
  {
   "cell_type": "markdown",
   "metadata": {
    "id": "i5FLwj-B2ybQ"
   },
   "source": [
    "20. Створіть пустий словник. До нього додайте чотири пари елементів такі, щоб їхні ключі були різних типів. Чи може список бути ключем? Чому?"
   ]
  },
  {
   "cell_type": "code",
   "execution_count": 25,
   "metadata": {
    "id": "hxgv3BzrgLAV"
   },
   "outputs": [
    {
     "name": "stdout",
     "output_type": "stream",
     "text": [
      "Dictionary {1: 1, False: False, '1': '1', (1, 1): (1, 1)}\n"
     ]
    }
   ],
   "source": [
    "var_dict = {}\n",
    "\n",
    "var_dict[1] = 1\n",
    "var_dict[False] = False\n",
    "var_dict['1'] = '1'\n",
    "var_dict[(1, 1)] = (1, 1)\n",
    "\n",
    "print(\"Dictionary\", var_dict)"
   ]
  },
  {
   "cell_type": "markdown",
   "metadata": {
    "id": "zwa7UVN-gR3m"
   },
   "source": [
    "Ні. Бо список може змінюватися"
   ]
  },
  {
   "cell_type": "markdown",
   "metadata": {
    "id": "WM_pMlJsgoNf"
   },
   "source": [
    "21. Створіть словник, де значенням в одній з пар теж буде словник, який теж має вкладений словник. Виведіть на екран значення, що міститься в словнику, що знаходиться на найнижчому рівні ієрархії вкладеності (найбільш внутрішній)."
   ]
  },
  {
   "cell_type": "code",
   "execution_count": 27,
   "metadata": {
    "id": "60dlP7IHhAy4"
   },
   "outputs": [
    {
     "name": "stdout",
     "output_type": "stream",
     "text": [
      "value_2_2_1\n"
     ]
    }
   ],
   "source": [
    "var_dict = {\n",
    "    'key_1': 'value_1',\n",
    "    'key_2': {\n",
    "        'key_2_1': 'value_2_1',\n",
    "        'key_2_2': {\n",
    "            'key_2_2_1': 'value_2_2_1'\n",
    "        }\n",
    "    }\n",
    "}\n",
    "\n",
    "print(var_dict['key_2']['key_2_2']['key_2_2_1'])"
   ]
  },
  {
   "cell_type": "markdown",
   "metadata": {
    "id": "xOZP0hkx6cCr"
   },
   "source": [
    "# Вітаю! Ви велика(ий) молодець, що впоралась(вся). Похваліть себе та побалуйте чимось приємним. Я Вами пишаюся."
   ]
  }
 ],
 "metadata": {
  "colab": {
   "provenance": []
  },
  "kernelspec": {
   "display_name": "Python 3 (ipykernel)",
   "language": "python",
   "name": "python3"
  },
  "language_info": {
   "codemirror_mode": {
    "name": "ipython",
    "version": 3
   },
   "file_extension": ".py",
   "mimetype": "text/x-python",
   "name": "python",
   "nbconvert_exporter": "python",
   "pygments_lexer": "ipython3",
   "version": "3.11.5"
  }
 },
 "nbformat": 4,
 "nbformat_minor": 1
}
